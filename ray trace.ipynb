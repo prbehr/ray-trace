{
 "cells": [
  {
   "cell_type": "code",
   "execution_count": 1,
   "metadata": {},
   "outputs": [],
   "source": [
    "%matplotlib qt"
   ]
  },
  {
   "cell_type": "code",
   "execution_count": 2,
   "metadata": {},
   "outputs": [],
   "source": [
    "import numpy as np\n",
    "import matplotlib.pyplot as plt\n",
    "from mpl_toolkits.mplot3d import Axes3D\n",
    "import time"
   ]
  },
  {
   "cell_type": "code",
   "execution_count": 3,
   "metadata": {},
   "outputs": [],
   "source": [
    "## TODO:\n",
    "# Make Mirror() take an equation and calculate gradient itself\n",
    "# Make prop_to_secondary() not need a2 and b2 parameters?"
   ]
  },
  {
   "cell_type": "code",
   "execution_count": 4,
   "metadata": {},
   "outputs": [],
   "source": [
    "class Mirror:\n",
    "    def __init__(self,mtype,surface_eq,grad_x,grad_y,grad_z):\n",
    "        self.mtype = str.lower(mtype)\n",
    "        self.surface = surface_eq\n",
    "        self.grad_x = grad_x\n",
    "        self.grad_y = grad_y\n",
    "        self.grad_z = grad_z\n",
    "     \n",
    "    #returns unit normal vector at the location of coords\n",
    "    # coords = array of form [x,y,z]\n",
    "    def normal(self,coords):\n",
    "        n = np.asarray([self.grad_x(coords[0]),self.grad_y(coords[1]),self.grad_z(coords[2])])\n",
    "        return 1/np.linalg.norm(n)*n\n",
    "    \n",
    "    #Reflects the ray at the ray's current location and returns the unit vector in the direction of the\n",
    "    # outgoing reflected ray\n",
    "    def reflect(self,ray):\n",
    "        norm = self.normal(ray.get_location())\n",
    "        ray_unit = ray.unit()\n",
    "        \n",
    "        cos_theta = -np.dot(ray_unit,norm)\n",
    "        \n",
    "        outgoing_ray = ray_unit + 2*cos_theta*norm\n",
    "        outgoing_ray_norm = 1/np.linalg.norm(outgoing_ray)*outgoing_ray\n",
    "                \n",
    "        return outgoing_ray_norm"
   ]
  },
  {
   "cell_type": "code",
   "execution_count": 5,
   "metadata": {},
   "outputs": [],
   "source": [
    "# Propagate currently only works for on-axis rays!!!\n",
    "class Ray:\n",
    "    def __init__(self,x_0,y_0,x_dir,y_dir,z_dir):\n",
    "        self.x_0 = x_0 # initial x location\n",
    "        self.y_0 = y_0 # initial y location\n",
    "        self.z_0 = 10 # initial z location\n",
    "        self.x = self.x_0 # current x location\n",
    "        self.y = self.y_0 # current y location\n",
    "        self.z = self.z_0 # current z location\n",
    "        self.x_dir = x_dir # vector x component\n",
    "        self.y_dir = y_dir # vector y component\n",
    "        self.z_dir = z_dir # vector z componnet\n",
    "        self.length = 1 # vector length\n",
    "        self.canProp = True # Bool to control if the ray can propagate through the system\n",
    "    \n",
    "    #returns ray unit vector\n",
    "    def unit(self):\n",
    "        r = self.get_dir()\n",
    "        # self.get_dir() shoooouuuld always give a unit vector, but might as well be safe? \n",
    "        return 1/(np.linalg.norm(r))*r\n",
    "    \n",
    "    #Propagates all the way through the telescope returns the final location of ray\n",
    "    # primary = system primary mirror\n",
    "    # secondary = system secondary mirror\n",
    "    # a2, b2 = a^2, b^2 values from secondary equation (blegh, need to get rid of these) \n",
    "    # If no focal is provided, assume propagating to focal plane\n",
    "    def propagate(self,primary,secondary,a2,b2,focal=-0.2):\n",
    "        self.propagate_to_primary()\n",
    "        self.set_dir(primary.reflect(self))\n",
    "        self.propagate_to_secondary(a2,b2)\n",
    "        self.set_dir(secondary.reflect(self))\n",
    "        self.propagate_to_focal(focal)\n",
    "        \n",
    "        return self.get_location()\n",
    "      \n",
    "    #Propagates the ray to the primary mirror and updates its current location\n",
    "    def propagate_to_primary(self):\n",
    "        # If the ray can propagate, calculate the length such that it intersects with the primary mirror\n",
    "        if(self.canProp):\n",
    "            # If x & y vector components are both 0 there is a division by 0\n",
    "            if(self.x_dir == 0 and self.y_dir == 0):\n",
    "                self.length = self.z_0-primary.surface(self.x_0,self.y_0)\n",
    "\n",
    "            else:\n",
    "                # Substitute ray coordinates into primary equation and solve for length\n",
    "                # (z_0+l*z_dir) = ((x_0+l*x_dir)^2+(y_0+l*y_dir)^2)/12\n",
    "                a = self.x_dir**2+self.y_dir**2\n",
    "                b = 2*self.x_dir*self.x_0+2*self.y_dir*self.y_0-12*self.z_dir\n",
    "                c = self.x_0**2+self.y_0**2-12*self.z_0\n",
    "\n",
    "                self.length = 1/2*(-b/a+np.sqrt((b/a)**2-4*c/a))\n",
    "\n",
    "            end_loc = np.asarray([self.x_0,self.y_0,self.z_0]+self.length*self.unit())\n",
    "\n",
    "            self.set_location(end_loc)\n",
    "\n",
    "            #If the ray falls off of the primary mirror, set its location to 0,0,10\n",
    "            # and set its canProp attribute to false so it no longer propagates through the system\n",
    "            if(np.sqrt(self.x**2 + self.y**2) > 0.5 ):\n",
    "                self.set_location([0,0,10])\n",
    "                self.canProp = False\n",
    "        \n",
    "        return\n",
    "    \n",
    "    #Propagates to the secondary mirror and updates its current location\n",
    "    def propagate_to_secondary(self,a2,b2):\n",
    "        #We want to propagate to secondary from current location so set origin to location\n",
    "        if(self.canProp):\n",
    "            # Update origin so that ray is propagating from its current location to the secondary\n",
    "            self.set_origin(self.get_location()) \n",
    "            \n",
    "            # Solve for intersection with secondary\n",
    "            # ((x0+l*x_dir)^2+(y0+l*y_dir)^2)/a^2 - ((z0+l*z_dir)-1.4)^2/b^2 = -1\n",
    "            a = b2*(self.x_dir**2+self.y_dir**2)-a2*self.z_dir**2\n",
    "            b = b2*(2*self.x_0*self.x_dir+2*self.y_0*self.y_dir)-2*a2*self.z_dir*(self.z_0-1.4)\n",
    "            c = b2*(self.x_0**2+self.y_0**2)-a2*(self.z_0-1.4)**2+a2*b2\n",
    "\n",
    "            self.length = 1/(2*a)*(-b-np.sqrt(b**2-4*a*c))\n",
    "\n",
    "            end_loc = np.asarray([self.x_0,self.y_0,self.z_0]+self.length*self.unit())\n",
    "\n",
    "            self.set_location(end_loc)\n",
    "            \n",
    "            # If ray falls outside of the secondary reset its location and \n",
    "            # set canProp to false to prevent it from propagating through the system\n",
    "            #if(np.sqrt(self.x**2+self.y**2) > 0.09):\n",
    "                #self.set_location([0,0,10])\n",
    "                #self.canProp = False\n",
    "            \n",
    "        \n",
    "        return\n",
    "    \n",
    "    #Propagates the ray to the focal plane and updates current position\n",
    "    def propagate_to_focal(self,focal=-0.2):\n",
    "        if(self.canProp):\n",
    "            self.set_origin(self.get_location())\n",
    "            \n",
    "            # Solve for length such that z0+l*z_dir = focal\n",
    "            self.length = (focal-self.z_0)/self.z_dir\n",
    "\n",
    "            end_loc = np.asarray([self.x_0,self.y_0,self.z_0]+self.length*self.unit())\n",
    "\n",
    "            self.set_location(end_loc)\n",
    "        \n",
    "        return\n",
    "    \n",
    "    #Redefines the origin of the ray (Use when proping from primary -> secondary and secondary -> focus)\n",
    "    # location = array of form [x,y,z]\n",
    "    def set_origin(self,location):\n",
    "        self.x_0 = location[0]\n",
    "        self.y_0 = location[1]\n",
    "        self.z_0 = location[2]\n",
    "        return\n",
    "    \n",
    "    #returns the initial location of the ray\n",
    "    def get_origin(self):\n",
    "        return np.asarray([self.x_0,self.y_0,self.z_0])\n",
    "    \n",
    "    #Sets the rays current location to [x,y,z]\n",
    "    #location = array of form [x,y,z]\n",
    "    def set_location(self,location):\n",
    "        self.x = location[0]\n",
    "        self.y = location[1]\n",
    "        self.z = location[2]\n",
    "        return\n",
    "    \n",
    "    #returns the current location of the ray\n",
    "    def get_location(self):\n",
    "        return np.asarray([self.x,self.y,self.z])\n",
    "    \n",
    "    #direction = array of form [x_dir,y_dir,z_dir] ***Must be unit vector***\n",
    "    # This is only called from Mirror.reflect(), which returns a unit vector\n",
    "    def set_dir(self,direction):\n",
    "        self.x_dir = direction[0]\n",
    "        self.y_dir = direction[1]\n",
    "        self.z_dir = direction[2]\n",
    "        return\n",
    "     \n",
    "    #returns array with direction components\n",
    "    # If the ray is set up properly when initialized, the directions should already form a unit vector\n",
    "    def get_dir(self):\n",
    "        return np.asarray([self.x_dir,self.y_dir,self.z_dir])"
   ]
  },
  {
   "cell_type": "code",
   "execution_count": 6,
   "metadata": {},
   "outputs": [],
   "source": [
    "### Construct equation of primary ###\n",
    "# (x^2+y^2)/4p - z = 0\n",
    "# p = focal length\n",
    "primary_eq = lambda x,y: 1/12*x**2+1/12*y**2\n",
    "primary_gradx = lambda x: -1/6*x\n",
    "primary_grady = lambda y: -1/6*y\n",
    "primary_gradz = lambda z: 1\n",
    "primary = Mirror('primary',primary_eq,primary_gradx,primary_grady,primary_gradz)"
   ]
  },
  {
   "cell_type": "code",
   "execution_count": 7,
   "metadata": {},
   "outputs": [
    {
     "name": "stdout",
     "output_type": "stream",
     "text": [
      "Edge location: -0.089019\n",
      "a^2: 1.422310\n",
      "b^2: 1.137690\n"
     ]
    }
   ],
   "source": [
    "### Construct equation of secondary ###\n",
    "# Send a test ray from the edge of the primary to the secondary and find \n",
    "# where it intersects with a ray from the focal plane\n",
    "test_ray = Ray(-0.5,0,0,0,-1)\n",
    "test_ray.propagate_to_primary()\n",
    "test_ray.set_dir(primary.reflect(test_ray))\n",
    "r_hat = test_ray.unit()\n",
    "\n",
    "# Slope of line from edge of primary\n",
    "ratio = r_hat[2]/r_hat[0]\n",
    "\n",
    "# Edge point calculated from intersection of lines from focus & edge of primary\n",
    "# ie:   where does  ratio*x + 3 = -cos(f/15)/sin(f/15)x - 0.2\n",
    "x_edge = -3.2/(ratio+np.cos(1/30)/np.sin(1/30))\n",
    "z_edge = ratio*(x_edge)+3\n",
    "\n",
    "# Hyperbola of the form x^2/a^2 + y^2/a^2 - (z-k)^2/b^2 = -1\n",
    "# c^2 = a^2 + b^2, where c = 1/2(distance between foci) = 1.6\n",
    "# k = center = 3-1.6 = 1.4\n",
    "# Solve quadratic for a^2, b^2\n",
    "c = 1.6\n",
    "k = 1.4\n",
    "gam = x_edge**2+(z_edge-k)**2-c**2\n",
    "eta = -c**2*x_edge**2\n",
    "a2 = 0.5*(-gam+np.sqrt(gam**2-4*eta))\n",
    "b2 = c**2-a2\n",
    "\n",
    "# Debugging\n",
    "print('Edge location: %f' %(x_edge))\n",
    "print('a^2: %f' %(a2))\n",
    "print('b^2: %f' %(b2))\n",
    "\n",
    "# Solving the hyperbola for z gives\n",
    "# z = k+sqrt(b^2(x^2+y^2/a^2+1))\n",
    "\n",
    "secondary_eq = lambda x,y: k+np.sqrt(b2*((x**2+y**2)/a2+1))\n",
    "secondary_gradx = lambda x: 2*x/a2\n",
    "secondary_grady = lambda y: 2*y/a2\n",
    "secondary_gradz = lambda z: -2*(z-1.4)/b2\n",
    "\n",
    "secondary = Mirror('secondary',secondary_eq,secondary_gradx,secondary_grady,secondary_gradz)"
   ]
  },
  {
   "cell_type": "code",
   "execution_count": 8,
   "metadata": {
    "collapsed": true
   },
   "outputs": [
    {
     "data": {
      "text/plain": [
       "\"\\n### Test reflection in 3D, make a cool plot ###\\noff_axis_as = 5*60 # Off axis angle in arcsec\\noff_axis_rad = off_axis_as*4.8481368e-6 # off axis angle in radian\\n\\n# Set up meshgrids for plotting mirror surfaces\\nx = np.linspace(-0.5,0.5,1000)\\ny = np.linspace(-0.5,0.5,1000)\\n\\nx_2 = np.linspace(x_edge,-x_edge,1000)\\ny_2 = np.linspace(x_edge,-x_edge,1000)\\n\\n# XY = primary meshgrid X2Y2 = secondary meshgrid\\nX,Y = np.meshgrid(x,y)\\nX2,Y2 = np.meshgrid(x_2,y_2)\\n\\n#Ray(x_0,y_0,x_dir,y_dir,z_dir)\\nray1 = Ray(0,0.2,np.sin(off_axis_rad),0,-np.cos(off_axis_rad))\\nray2 = Ray(-0.1,-0.1,np.sin(off_axis_rad),0,-np.cos(off_axis_rad))\\nray3 = Ray(0.2,0,np.sin(off_axis_rad),0,-np.cos(off_axis_rad))\\nray4 = Ray(-0.2,0.2,np.sin(off_axis_rad),0,-np.cos(off_axis_rad))\\n\\nray1.propagate_to_primary()\\nray3.propagate_to_primary()\\nray3.propagate_to_primary()\\nray4.propagate_to_primary()\\n# Reflect ray towards secondary\\nray1.set_dir(primary.reflect(ray1))\\nray2.set_dir(primary.reflect(ray2))\\nray3.set_dir(primary.reflect(ray3))\\nray4.set_dir(primary.reflect(ray4))\\n\\n\\n## Debugging ##\\n#print('ray 1 origin: ' +str(ray1.get_origin()))\\n#print('ray 1 location: '+str(ray1.get_location()))\\n#print('ray 1 length: %f' %(ray1.length))\\n#print('ray 1 direction after reflection: '+str(ray1.get_dir()))\\n#print('surface location: %f, %f' %(ray1.x,primary.surface(ray1.x,0)))\\n###\\n\\n\\n#Normal to surface on primary for plotting\\nnormal = primary.normal(ray1.get_location())\\nnormx = [ray1.x,ray1.x+2*normal[0]]\\nnormy = [ray1.y,ray1.y+2*normal[1]]\\nnormz = [ray1.z,ray1.z+2*normal[2]]\\n\\n\\n## Debugging ##\\n#print(norm_vec)\\n#print('normal vector components: '+str(normal))\\n#print('Normal vector start location: %f, %f' %(normx,normz))\\n#print('Normal vector end location: %f, %f' %(norm2x,norm2z))\\n#print('New ray unit vector: '+str(ray1.unit()))\\n###\\n\\n#Initial ray components for plotting\\nrayx = np.asarray([[ray1.x_0,ray1.x],[ray2.x_0,ray2.x],[ray3.x_0,ray3.x],[ray4.x_0,ray4.x]])\\nrayy = np.asarray([[ray1.y_0,ray1.y],[ray2.y_0,ray2.y],[ray3.y_0,ray3.y],[ray4.y_0,ray4.y]])\\nrayz = np.asarray([[ray1.z_0,ray1.z],[ray2.z_0,ray2.z],[ray3.z_0,ray3.z],[ray4.z_0,ray4.z]])\\n\\nray1.propagate_to_secondary(a2,b2)\\nray2.propagate_to_secondary(a2,b2)\\nray3.propagate_to_secondary(a2,b2)\\nray4.propagate_to_secondary(a2,b2)\\n\\n# Normal to secondary for plotting\\n#normal = secondary.normal(ray1.get_location())\\n#norm_secondx = [ray1.x,ray1.x+2*normal[0]]\\n#norm_secondy = [ray1.y,ray1.y+2*normal[1]]\\n#norm_secondz = [ray1.z,ray1.z+2*normal[2]]\\n\\n# Ray components from primary to secondary for plotting\\nray2x = np.asarray([[ray1.x_0,ray1.x],[ray2.x_0,ray2.x],[ray3.x_0,ray3.x],[ray4.x_0,ray4.x]])\\nray2y = np.asarray([[ray1.y_0,ray1.y],[ray2.y_0,ray2.y],[ray3.y_0,ray3.y],[ray4.y_0,ray4.y]])\\nray2z = np.asarray([[ray1.z_0,ray1.z],[ray2.z_0,ray2.z],[ray3.z_0,ray3.z],[ray4.z_0,ray4.z]])\\n\\n# Reflect ray towards focus\\nray1.set_dir(secondary.reflect(ray1))\\nray1.propagate_to_focal(focal=-0.3)\\nray2.set_dir(secondary.reflect(ray2))\\nray2.propagate_to_focal(focal=-0.3)\\nray3.set_dir(secondary.reflect(ray3))\\nray3.propagate_to_focal(focal=-0.3)\\nray4.set_dir(secondary.reflect(ray4))\\nray4.propagate_to_focal(focal=-0.3)\\n\\n# Ray components from secondary to focus for plotting\\nray3x = np.asarray([[ray1.x_0,ray1.x],[ray2.x_0,ray2.x],[ray3.x_0,ray3.x],[ray4.x_0,ray4.x]])\\nray3y = np.asarray([[ray1.y_0,ray1.y],[ray2.y_0,ray2.y],[ray3.y_0,ray3.y],[ray4.z_0,ray4.y]])\\nray3z = np.asarray([[ray1.z_0,ray1.z],[ray2.z_0,ray2.z],[ray3.z_0,ray3.z],[ray4.z_0,ray4.z]])\\n\\nfig = plt.figure(figsize=(6,6))\\nax = fig.add_subplot(111,projection='3d')\\n#ax.plot_surface(X,Y,primary.surface(X,Y))\\n#ax.plot_surface(X2,Y2,secondary.surface(X2,Y2))\\n\\nprint(rayx.shape)\\nprint(ray2x[0,:])\\nprint(ray2y[0,:])\\nprint(ray2z[0,:])\\n\\n\\nax.plot(rayx[0,:],rayy[0,:],rayz[0,:],'C3')\\nax.plot(rayx[1,:],rayy[1,:],rayz[1,:],'C4')\\nax.plot(rayx[2,:],rayy[2,:],rayz[3,:],'C5')\\n\\nax.plot(ray2x[0,:],ray2y[0,:],ray2z[0,:],'C3')\\nax.plot(ray2x[1,:],ray2y[1,:],ray2z[1,:],'C4')\\nax.plot(ray2x[2,:],ray2y[2,:],ray2z[3,:],'C5')\\n\\nax.plot(ray3x[0,:],ray3y[0,:],ray3z[0,:],'C3')\\nax.plot(ray3x[1,:],ray3y[1,:],ray3z[1,:],'C4')\\nax.plot(ray3x[2,:],ray3y[2,:],ray3z[3,:],'C5')\\n\\nax.scatter(0,0,3,c='k')\\nax.scatter(0,0,-0.2,c='k')\\n\\nax.axes.set_zlim([-0.23,-0.18])\\nax.axes.set_xlim([-0.001,0.001])\\nax.axes.set_ylim([-0.001,0.001])\\n\""
      ]
     },
     "execution_count": 8,
     "metadata": {},
     "output_type": "execute_result"
    }
   ],
   "source": [
    "'''\n",
    "### Test reflection in 3D, make a cool plot ###\n",
    "off_axis_as = 5*60 # Off axis angle in arcsec\n",
    "off_axis_rad = off_axis_as*4.8481368e-6 # off axis angle in radian\n",
    "\n",
    "# Set up meshgrids for plotting mirror surfaces\n",
    "x = np.linspace(-0.5,0.5,1000)\n",
    "y = np.linspace(-0.5,0.5,1000)\n",
    "\n",
    "x_2 = np.linspace(x_edge,-x_edge,1000)\n",
    "y_2 = np.linspace(x_edge,-x_edge,1000)\n",
    "\n",
    "# XY = primary meshgrid X2Y2 = secondary meshgrid\n",
    "X,Y = np.meshgrid(x,y)\n",
    "X2,Y2 = np.meshgrid(x_2,y_2)\n",
    "\n",
    "#Ray(x_0,y_0,x_dir,y_dir,z_dir)\n",
    "ray1 = Ray(0,0.2,np.sin(off_axis_rad),0,-np.cos(off_axis_rad))\n",
    "ray2 = Ray(-0.1,-0.1,np.sin(off_axis_rad),0,-np.cos(off_axis_rad))\n",
    "ray3 = Ray(0.2,0,np.sin(off_axis_rad),0,-np.cos(off_axis_rad))\n",
    "ray4 = Ray(-0.2,0.2,np.sin(off_axis_rad),0,-np.cos(off_axis_rad))\n",
    "\n",
    "ray1.propagate_to_primary()\n",
    "ray3.propagate_to_primary()\n",
    "ray3.propagate_to_primary()\n",
    "ray4.propagate_to_primary()\n",
    "# Reflect ray towards secondary\n",
    "ray1.set_dir(primary.reflect(ray1))\n",
    "ray2.set_dir(primary.reflect(ray2))\n",
    "ray3.set_dir(primary.reflect(ray3))\n",
    "ray4.set_dir(primary.reflect(ray4))\n",
    "\n",
    "\n",
    "## Debugging ##\n",
    "#print('ray 1 origin: ' +str(ray1.get_origin()))\n",
    "#print('ray 1 location: '+str(ray1.get_location()))\n",
    "#print('ray 1 length: %f' %(ray1.length))\n",
    "#print('ray 1 direction after reflection: '+str(ray1.get_dir()))\n",
    "#print('surface location: %f, %f' %(ray1.x,primary.surface(ray1.x,0)))\n",
    "###\n",
    "\n",
    "\n",
    "#Normal to surface on primary for plotting\n",
    "normal = primary.normal(ray1.get_location())\n",
    "normx = [ray1.x,ray1.x+2*normal[0]]\n",
    "normy = [ray1.y,ray1.y+2*normal[1]]\n",
    "normz = [ray1.z,ray1.z+2*normal[2]]\n",
    "\n",
    "\n",
    "## Debugging ##\n",
    "#print(norm_vec)\n",
    "#print('normal vector components: '+str(normal))\n",
    "#print('Normal vector start location: %f, %f' %(normx,normz))\n",
    "#print('Normal vector end location: %f, %f' %(norm2x,norm2z))\n",
    "#print('New ray unit vector: '+str(ray1.unit()))\n",
    "###\n",
    "\n",
    "#Initial ray components for plotting\n",
    "rayx = np.asarray([[ray1.x_0,ray1.x],[ray2.x_0,ray2.x],[ray3.x_0,ray3.x],[ray4.x_0,ray4.x]])\n",
    "rayy = np.asarray([[ray1.y_0,ray1.y],[ray2.y_0,ray2.y],[ray3.y_0,ray3.y],[ray4.y_0,ray4.y]])\n",
    "rayz = np.asarray([[ray1.z_0,ray1.z],[ray2.z_0,ray2.z],[ray3.z_0,ray3.z],[ray4.z_0,ray4.z]])\n",
    "\n",
    "ray1.propagate_to_secondary(a2,b2)\n",
    "ray2.propagate_to_secondary(a2,b2)\n",
    "ray3.propagate_to_secondary(a2,b2)\n",
    "ray4.propagate_to_secondary(a2,b2)\n",
    "\n",
    "# Normal to secondary for plotting\n",
    "#normal = secondary.normal(ray1.get_location())\n",
    "#norm_secondx = [ray1.x,ray1.x+2*normal[0]]\n",
    "#norm_secondy = [ray1.y,ray1.y+2*normal[1]]\n",
    "#norm_secondz = [ray1.z,ray1.z+2*normal[2]]\n",
    "\n",
    "# Ray components from primary to secondary for plotting\n",
    "ray2x = np.asarray([[ray1.x_0,ray1.x],[ray2.x_0,ray2.x],[ray3.x_0,ray3.x],[ray4.x_0,ray4.x]])\n",
    "ray2y = np.asarray([[ray1.y_0,ray1.y],[ray2.y_0,ray2.y],[ray3.y_0,ray3.y],[ray4.y_0,ray4.y]])\n",
    "ray2z = np.asarray([[ray1.z_0,ray1.z],[ray2.z_0,ray2.z],[ray3.z_0,ray3.z],[ray4.z_0,ray4.z]])\n",
    "\n",
    "# Reflect ray towards focus\n",
    "ray1.set_dir(secondary.reflect(ray1))\n",
    "ray1.propagate_to_focal(focal=-0.3)\n",
    "ray2.set_dir(secondary.reflect(ray2))\n",
    "ray2.propagate_to_focal(focal=-0.3)\n",
    "ray3.set_dir(secondary.reflect(ray3))\n",
    "ray3.propagate_to_focal(focal=-0.3)\n",
    "ray4.set_dir(secondary.reflect(ray4))\n",
    "ray4.propagate_to_focal(focal=-0.3)\n",
    "\n",
    "# Ray components from secondary to focus for plotting\n",
    "ray3x = np.asarray([[ray1.x_0,ray1.x],[ray2.x_0,ray2.x],[ray3.x_0,ray3.x],[ray4.x_0,ray4.x]])\n",
    "ray3y = np.asarray([[ray1.y_0,ray1.y],[ray2.y_0,ray2.y],[ray3.y_0,ray3.y],[ray4.z_0,ray4.y]])\n",
    "ray3z = np.asarray([[ray1.z_0,ray1.z],[ray2.z_0,ray2.z],[ray3.z_0,ray3.z],[ray4.z_0,ray4.z]])\n",
    "\n",
    "fig = plt.figure(figsize=(6,6))\n",
    "ax = fig.add_subplot(111,projection='3d')\n",
    "#ax.plot_surface(X,Y,primary.surface(X,Y))\n",
    "#ax.plot_surface(X2,Y2,secondary.surface(X2,Y2))\n",
    "\n",
    "print(rayx.shape)\n",
    "print(ray2x[0,:])\n",
    "print(ray2y[0,:])\n",
    "print(ray2z[0,:])\n",
    "\n",
    "\n",
    "ax.plot(rayx[0,:],rayy[0,:],rayz[0,:],'C3')\n",
    "ax.plot(rayx[1,:],rayy[1,:],rayz[1,:],'C4')\n",
    "ax.plot(rayx[2,:],rayy[2,:],rayz[3,:],'C5')\n",
    "\n",
    "ax.plot(ray2x[0,:],ray2y[0,:],ray2z[0,:],'C3')\n",
    "ax.plot(ray2x[1,:],ray2y[1,:],ray2z[1,:],'C4')\n",
    "ax.plot(ray2x[2,:],ray2y[2,:],ray2z[3,:],'C5')\n",
    "\n",
    "ax.plot(ray3x[0,:],ray3y[0,:],ray3z[0,:],'C3')\n",
    "ax.plot(ray3x[1,:],ray3y[1,:],ray3z[1,:],'C4')\n",
    "ax.plot(ray3x[2,:],ray3y[2,:],ray3z[3,:],'C5')\n",
    "\n",
    "ax.scatter(0,0,3,c='k')\n",
    "ax.scatter(0,0,-0.2,c='k')\n",
    "\n",
    "ax.axes.set_zlim([-0.23,-0.18])\n",
    "ax.axes.set_xlim([-0.001,0.001])\n",
    "ax.axes.set_ylim([-0.001,0.001])\n",
    "'''"
   ]
  },
  {
   "cell_type": "code",
   "execution_count": 95,
   "metadata": {},
   "outputs": [
    {
     "name": "stdout",
     "output_type": "stream",
     "text": [
      "Off-axis angle: 0.001454 rad\n",
      "4920 made it to the focal plane\n",
      "elapsed time: 0.954679\n"
     ]
    }
   ],
   "source": [
    "start = time.time()\n",
    "\n",
    "# Off axis angle in arcsec, radian\n",
    "off_axis_as = 5*60\n",
    "off_axis_rad = off_axis_as*4.8481368e-6\n",
    "print('Off-axis angle: %f rad' %(off_axis_rad))\n",
    "\n",
    "## Make an array of ray objects and propagate all of them through to the focus\n",
    "x_locs = np.linspace(-0.5,0.5,100,dtype='float')\n",
    "y_locs = np.linspace(-0.5,0.5,100,dtype='float')\n",
    "\n",
    "rays = []\n",
    "\n",
    "for x_loc in x_locs:\n",
    "    for y_loc in y_locs:\n",
    "        # Form the annulus of incoming rays by skipping the loop any time coords fall outside of the primary\n",
    "        # or inside of the secondary\n",
    "        if((x_loc**2+y_loc**2 > 0.5) or (x_loc**2+y_loc**2 < 0.09)):\n",
    "            continue\n",
    "        else:\n",
    "            # Otherwise make a ray at x_loc, y_loc\n",
    "            rays.append(Ray(x_loc,y_loc,np.sin(off_axis_rad),0,-np.cos(off_axis_rad)))\n",
    "\n",
    "\n",
    "locations = np.zeros((len(rays),3))\n",
    "\n",
    "# Propagate each ray through the system and get the final location\n",
    "for i in range(0,len(rays)):\n",
    "    ray = rays[i]\n",
    "    locations[i] = ray.propagate(primary,secondary,a2,b2,focal=-0.19955)\n",
    "    \n",
    "\n",
    "#Get rid of any of the rays we put up at [0,0,10] with a logical array\n",
    "rays_to_cull = np.zeros(len(rays),dtype=bool)\n",
    "for i in range(0,len(rays_to_cull)):\n",
    "    if(locations[i][2] > 0):\n",
    "        rays_to_cull[i] = True\n",
    "        \n",
    "locations = locations[rays_to_cull==False]\n",
    "print(str(len(locations))+' made it to the focal plane') # How many rays made it through the system\n",
    "\n",
    "end = time.time()\n",
    "\n",
    "print('elapsed time: %f' %(end-start))"
   ]
  },
  {
   "cell_type": "code",
   "execution_count": 47,
   "metadata": {},
   "outputs": [
    {
     "data": {
      "text/plain": [
       "Text(0.5, 1.0, 'Incoming rays 300.0\" off-axis')"
      ]
     },
     "execution_count": 47,
     "metadata": {},
     "output_type": "execute_result"
    }
   ],
   "source": [
    "plt.figure(figsize=(8,8))\n",
    "plt.scatter(locations[:,0]*1000,locations[:,1]*1000,c='k',marker='.',s=10)\n",
    "plt.xlabel('x location [mm]')\n",
    "plt.ylabel('y location [mm]')\n",
    "plt.title('Incoming rays %1.1f\" off-axis' %(off_axis_as))\n",
    "\n",
    "#plt.savefig('./figures/spot_diagram_%d.png'%(off_axis_as))"
   ]
  },
  {
   "cell_type": "code",
   "execution_count": 11,
   "metadata": {},
   "outputs": [],
   "source": [
    "### Optimize focal plane for certain field of view ###\n",
    "\n",
    "# Calculate spot diagram for rays 0, 10, 20, 30\" off-axis\n",
    "# Find RMS diameter of each spot\n",
    "# Plot average RMS vs focal plane location\n",
    "# Should go like  \\/  ? "
   ]
  },
  {
   "cell_type": "code",
   "execution_count": 93,
   "metadata": {},
   "outputs": [
    {
     "name": "stdout",
     "output_type": "stream",
     "text": [
      "elapsed time: 148.902639\n"
     ]
    }
   ],
   "source": [
    "focal_planes = np.linspace(-0.2,-0.1993,30)\n",
    "angles = [0,1*60,2*60,3*60,4*60,5*60]\n",
    "\n",
    "rms_vals = np.zeros(shape=(len(angles),len(focal_planes)))\n",
    "\n",
    "start = time.time()\n",
    "\n",
    "for i in range(0,len(focal_planes)):\n",
    "    for j in range(0,len(angles)):\n",
    "        # Off axis angle in arcsec, radian\n",
    "        off_axis_as = angles[j]\n",
    "        off_axis_rad = off_axis_as*4.8481368e-6\n",
    "        #print('Off-axis angle: %f rad' %(off_axis_rad))\n",
    "\n",
    "        ## Make an array of ray objects and propagate all of them through to the focus\n",
    "        x_locs = np.linspace(-0.5,0.5,100,dtype='float')\n",
    "        y_locs = np.linspace(-0.5,0.5,100,dtype='float')\n",
    "\n",
    "        rays = []\n",
    "\n",
    "        for x_loc in x_locs:\n",
    "            for y_loc in y_locs:\n",
    "                # Form the annulus of incoming rays by skipping the loop any time coords fall outside of the primary\n",
    "                # or inside of the secondary\n",
    "                if((x_loc**2+y_loc**2 > 0.5) or (x_loc**2+y_loc**2 < 0.09)):\n",
    "                    continue\n",
    "                else:\n",
    "                    # Otherwise make a ray at x_loc, y_loc\n",
    "                    rays.append(Ray(x_loc,y_loc,np.sin(off_axis_rad),0,-np.cos(off_axis_rad)))\n",
    "\n",
    "\n",
    "        locations = np.zeros((len(rays),3))\n",
    "\n",
    "        # Propagate each ray through the system and get the final location\n",
    "        for k in range(0,len(rays)):\n",
    "            ray = rays[k]\n",
    "            locations[k] = ray.propagate(primary,secondary,a2,b2,focal=focal_planes[i])\n",
    "\n",
    "\n",
    "        #Get rid of any of the rays we put up at [0,0,10] with a logical array\n",
    "        rays_to_cull = np.zeros(len(rays),dtype=bool)\n",
    "        for k in range(0,len(rays_to_cull)):\n",
    "            if(locations[k][2] > 0):\n",
    "                rays_to_cull[k] = True\n",
    "\n",
    "        locations = locations[rays_to_cull==False]\n",
    "        \n",
    "        #Find RMS spot size\n",
    "        mean = np.average(locations[:,0])\n",
    "        rms_vals[j,i]=np.sqrt(np.average((locations[:,0]-mean)**2))\n",
    "\n",
    "end = time.time()\n",
    "print('elapsed time: %f' %(end-start))"
   ]
  },
  {
   "cell_type": "code",
   "execution_count": 94,
   "metadata": {},
   "outputs": [
    {
     "data": {
      "text/plain": [
       "<matplotlib.legend.Legend at 0x180dbd2f670>"
      ]
     },
     "execution_count": 94,
     "metadata": {},
     "output_type": "execute_result"
    }
   ],
   "source": [
    "# Average spot size for each focal plane = average(:,0)\n",
    "avg_rms = np.zeros(len(focal_planes))\n",
    "for i in range(0,len(focal_planes)):\n",
    "    avg_rms[i] = np.average(rms_vals[2::,i])\n",
    "\n",
    "plt.figure(figsize=(8,8))\n",
    "plt.xlabel(r'Focal plane distance from -0.200mm [mm]')\n",
    "plt.ylabel(r'Average RMS spot size [$\\mu$m]')\n",
    "plt.scatter((focal_planes+0.2)*1000,rms_vals[:][0]*1e6,s=18,marker='+',label='0\\'')\n",
    "plt.scatter((focal_planes+0.2)*1000,rms_vals[:][1]*1e6,s=18,marker='o',label='1\\'')\n",
    "plt.scatter((focal_planes+0.2)*1000,rms_vals[:][2]*1e6,s=18,marker='x',label='2\\'')\n",
    "plt.scatter((focal_planes+0.2)*1000,rms_vals[:][3]*1e6,s=18,marker='v',label='3\\'')\n",
    "plt.scatter((focal_planes+0.2)*1000,rms_vals[:][4]*1e6,s=18,marker='^',label='4\\'')\n",
    "plt.scatter((focal_planes+0.2)*1000,rms_vals[:][5]*1e6,s=22,marker='2',label='5\\'')\n",
    "#plt.scatter((focal_planes+0.2)*1000,rms_vals[:][6]*1e6,s=22,marker='3',label='30\\\"')\n",
    "plt.scatter((focal_planes+0.2)*1000,avg_rms[:]*1e6,s=22,marker='1',label='average (2-30\\\")')\n",
    "plt.legend()"
   ]
  },
  {
   "cell_type": "code",
   "execution_count": 126,
   "metadata": {},
   "outputs": [
    {
     "data": {
      "text/plain": [
       "Text(0, 0.5, 'RMS spot size')"
      ]
     },
     "execution_count": 126,
     "metadata": {},
     "output_type": "execute_result"
    }
   ],
   "source": [
    "plt.figure(figsize=(8,8))\n",
    "plt.plot(focal_planes,rms_vals[3,:])\n",
    "plt.xlabel('Focal plane z location')\n",
    "plt.ylabel('RMS spot size')"
   ]
  },
  {
   "cell_type": "code",
   "execution_count": 12,
   "metadata": {},
   "outputs": [
    {
     "ename": "SyntaxError",
     "evalue": "EOF while scanning triple-quoted string literal (<ipython-input-12-4db4f51cc766>, line 29)",
     "output_type": "error",
     "traceback": [
      "\u001b[1;36m  File \u001b[1;32m\"<ipython-input-12-4db4f51cc766>\"\u001b[1;36m, line \u001b[1;32m29\u001b[0m\n\u001b[1;33m    '''\u001b[0m\n\u001b[1;37m       ^\u001b[0m\n\u001b[1;31mSyntaxError\u001b[0m\u001b[1;31m:\u001b[0m EOF while scanning triple-quoted string literal\n"
     ]
    }
   ],
   "source": [
    "###########################################################\n",
    "#Every thing below here is debugging & random calculations#\n",
    "###########################################################\n",
    "test_ray = Ray(-0.5,0,0,0,-1)\n",
    "test_ray.propagate_to_primary()\n",
    "test_ray.set_dir(primary.reflect(test_ray))\n",
    "#print(test_ray.get_location())\n",
    "#print(test_ray.get_dir())\n",
    "#print(primary.normal(test_ray.get_location()))\n",
    "\n",
    "r1 = np.asarray([0,0,-1])\n",
    "r2 = test_ray.get_dir()\n",
    "n = primary.normal(test_ray.get_location())\n",
    "print(r2)\n",
    "\n",
    "test_ray.propagate_to_secondary(a2,b2)\n",
    "print(test_ray.get_location())\n",
    "\n",
    "print(secondary.surface(-0.0890194,0))\n",
    "\n",
    "\n",
    "off_ax = 5*60*4.8481368e-6\n",
    "r_hat = np.asarray([np.sin(off_ax),0,-np.cos(off_ax)])\n",
    "n_hat = primary.normal([0.5,0,0.5*1/12])\n",
    "cos_theta = np.dot(-r_hat,n_hat)\n",
    "outgoing = r_hat+2*cos_theta*n_hat\n",
    "print(outgoing)\n",
    "print(2*outgoing[0])\n",
    "print(2*x_edge)"
   ]
  },
  {
   "cell_type": "code",
   "execution_count": 25,
   "metadata": {},
   "outputs": [],
   "source": [
    "s = secondary.surface(0,0) - primary.surface(0,0)"
   ]
  },
  {
   "cell_type": "code",
   "execution_count": 31,
   "metadata": {},
   "outputs": [
    {
     "name": "stdout",
     "output_type": "stream",
     "text": [
      "2.6666255104655012\n",
      "14.998611085390253\n"
     ]
    }
   ],
   "source": [
    "q = secondary.surface(0,0)+0.2\n",
    "print(q)\n",
    "p = 3.2 - q\n",
    "f_eff = 3*q/p\n",
    "print(f_eff)"
   ]
  },
  {
   "cell_type": "code",
   "execution_count": 28,
   "metadata": {},
   "outputs": [
    {
     "name": "stdout",
     "output_type": "stream",
     "text": [
      "2.466625510465501\n"
     ]
    }
   ],
   "source": [
    "print(secondary.surface(0,0))"
   ]
  },
  {
   "cell_type": "code",
   "execution_count": null,
   "metadata": {},
   "outputs": [],
   "source": [
    "off_axis_as = 5*60 # Off axis angle in arcsec\n",
    "off_axis_rad = off_axis_as*4.8481368e-6 # off axis angle in radian\n",
    "print(off_axis_rad)"
   ]
  },
  {
   "cell_type": "code",
   "execution_count": null,
   "metadata": {},
   "outputs": [],
   "source": [
    "r = np.asarray([np.sin(off_axis_rad),-np.cos(off_axis_rad)])\n",
    "n = 1/np.linalg.norm([-1/6,1])*np.asarray([-1/6,1])\n",
    "print(r)\n",
    "print(n)\n",
    "cos_theta = -np.dot(r,n)\n",
    "print(cos_theta)\n",
    "print(r+2*cos_theta*n)"
   ]
  },
  {
   "cell_type": "code",
   "execution_count": null,
   "metadata": {},
   "outputs": [],
   "source": [
    "ray = Ray(0.5,0,-0.32294816,0,0.94641666)\n",
    "ray.propagate_to_secondary(a2,b2)"
   ]
  },
  {
   "cell_type": "code",
   "execution_count": null,
   "metadata": {},
   "outputs": [],
   "source": [
    "print(ray.get_location())"
   ]
  },
  {
   "cell_type": "code",
   "execution_count": null,
   "metadata": {},
   "outputs": [],
   "source": [
    "d=-x_edge/np.tan(off_axis_rad)"
   ]
  },
  {
   "cell_type": "code",
   "execution_count": null,
   "metadata": {},
   "outputs": [],
   "source": [
    "print(secondary.surface(-x_edge,0)-d)"
   ]
  },
  {
   "cell_type": "code",
   "execution_count": null,
   "metadata": {},
   "outputs": [],
   "source": []
  }
 ],
 "metadata": {
  "kernelspec": {
   "display_name": "Python 3",
   "language": "python",
   "name": "python3"
  },
  "language_info": {
   "codemirror_mode": {
    "name": "ipython",
    "version": 3
   },
   "file_extension": ".py",
   "mimetype": "text/x-python",
   "name": "python",
   "nbconvert_exporter": "python",
   "pygments_lexer": "ipython3",
   "version": "3.8.3"
  }
 },
 "nbformat": 4,
 "nbformat_minor": 4
}
